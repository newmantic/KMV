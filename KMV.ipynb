{
  "nbformat": 4,
  "nbformat_minor": 0,
  "metadata": {
    "colab": {
      "provenance": [],
      "authorship_tag": "ABX9TyNmFWqFsAuS6yi2x8SOwhL8",
      "include_colab_link": true
    },
    "kernelspec": {
      "name": "python3",
      "display_name": "Python 3"
    },
    "language_info": {
      "name": "python"
    }
  },
  "cells": [
    {
      "cell_type": "markdown",
      "metadata": {
        "id": "view-in-github",
        "colab_type": "text"
      },
      "source": [
        "<a href=\"https://colab.research.google.com/github/newmantic/KMV/blob/main/KMV.ipynb\" target=\"_parent\"><img src=\"https://colab.research.google.com/assets/colab-badge.svg\" alt=\"Open In Colab\"/></a>"
      ]
    },
    {
      "cell_type": "code",
      "execution_count": 1,
      "metadata": {
        "colab": {
          "base_uri": "https://localhost:8080/"
        },
        "id": "Roq753Tu0hWL",
        "outputId": "644357ef-cf5e-4ce2-ec2c-e631a847ca34"
      },
      "outputs": [
        {
          "output_type": "stream",
          "name": "stdout",
          "text": [
            "Estimated Asset Value: V = 177.64, Estimated Asset Volatility: sigma_V = 0.14\n",
            "Distance to Default: DD = 5.81\n",
            "Expected Default Frequency: EDF = 0.0000\n"
          ]
        }
      ],
      "source": [
        "import numpy as np\n",
        "from scipy.stats import norm\n",
        "from scipy.optimize import fsolve\n",
        "\n",
        "def estimate_asset_value_and_volatility(E, sigma_E, D, r, T):\n",
        "    \"\"\"\n",
        "    Estimate the asset value (V) and asset volatility (sigma_V) from the equity value (E),\n",
        "    equity volatility (sigma_E), debt (D), risk-free rate (r), and time horizon (T).\n",
        "\n",
        "    :param E: Market value of equity\n",
        "    :param sigma_E: Volatility of equity\n",
        "    :param D: Value of debt (liabilities)\n",
        "    :param r: Risk-free rate\n",
        "    :param T: Time horizon (usually 1 year)\n",
        "    :return: Estimated asset value (V) and asset volatility (sigma_V)\n",
        "    \"\"\"\n",
        "    def equations(p):\n",
        "        V, sigma_V = p\n",
        "        d1 = (np.log(V / D) + (r + 0.5 * sigma_V ** 2) * T) / (sigma_V * np.sqrt(T))\n",
        "        d2 = d1 - sigma_V * np.sqrt(T)\n",
        "        return [\n",
        "            V * norm.cdf(d1) - D * np.exp(-r * T) * norm.cdf(d2) - E,\n",
        "            V * norm.cdf(d1) * sigma_V - sigma_E * E\n",
        "        ]\n",
        "\n",
        "    V, sigma_V = fsolve(equations, (E + D, sigma_E))\n",
        "    return V, sigma_V\n",
        "\n",
        "def calculate_distance_to_default(V, sigma_V, D, r, T):\n",
        "    \"\"\"\n",
        "    Calculate the Distance to Default (DD) for a firm.\n",
        "\n",
        "    :param V: Estimated asset value\n",
        "    :param sigma_V: Estimated asset volatility\n",
        "    :param D: Value of debt (liabilities)\n",
        "    :param r: Risk-free rate\n",
        "    :param T: Time horizon (usually 1 year)\n",
        "    :return: Distance to Default (DD)\n",
        "    \"\"\"\n",
        "    d1 = (np.log(V / D) + (r + 0.5 * sigma_V ** 2) * T) / (sigma_V * np.sqrt(T))\n",
        "    d2 = d1 - sigma_V * np.sqrt(T)\n",
        "    return d2\n",
        "\n",
        "def calculate_edf(DD):\n",
        "    \"\"\"\n",
        "    Calculate the Expected Default Frequency (EDF) using the Distance to Default (DD).\n",
        "\n",
        "    :param DD: Distance to Default\n",
        "    :return: Expected Default Frequency (EDF)\n",
        "    \"\"\"\n",
        "    return norm.cdf(-DD)\n",
        "\n",
        "# Example\n",
        "\n",
        "# Parameters\n",
        "E = 100        # Market value of equity\n",
        "sigma_E = 0.25  # Volatility of equity\n",
        "D = 80         # Value of debt (liabilities)\n",
        "r = 0.03       # Risk-free rate\n",
        "T = 1          # Time horizon (1 year)\n",
        "\n",
        "# Estimate asset value and volatility\n",
        "V, sigma_V = estimate_asset_value_and_volatility(E, sigma_E, D, r, T)\n",
        "print(f\"Estimated Asset Value: V = {V:.2f}, Estimated Asset Volatility: sigma_V = {sigma_V:.2f}\")\n",
        "\n",
        "# Calculate Distance to Default\n",
        "DD = calculate_distance_to_default(V, sigma_V, D, r, T)\n",
        "print(f\"Distance to Default: DD = {DD:.2f}\")\n",
        "\n",
        "# Calculate Expected Default Frequency\n",
        "EDF = calculate_edf(DD)\n",
        "print(f\"Expected Default Frequency: EDF = {EDF:.4f}\")"
      ]
    }
  ]
}